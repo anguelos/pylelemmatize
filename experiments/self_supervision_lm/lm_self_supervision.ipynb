{
 "cells": [
  {
   "cell_type": "code",
   "execution_count": 8,
   "id": "94a56392-c696-427b-81be-a5a75f9a543f",
   "metadata": {},
   "outputs": [
    {
     "name": "stdout",
     "output_type": "stream",
     "text": [
      "Wier Chůnrat an dem Harmarkcht der Richter Chvoenrat der Polle der Purgermaister vnd der gemainrat von der Stat ze Wienne veriehen vnd tvoen kvnt allen die disen brief gesehent oder gehoerent daz die erbern læut weilen Her Ernst vnser burger vnd ver Gerdroevt sein hovsvrowe da si baide lebten vnd wol mahten einen hof datze Swechent mit gemainem rate und gvoetleichen willen schvoeften den vrowen datze sant Nycla und ierem Conuent ewichleich nah ier baider tot durch ier sele willen Da si dv baide tot gelagen der vorgenant Ernst vnd ver Gerdrovt sein housvrowe da choemen vvr vns ier baider svne der Jacob vnd der Hainreich vnd ier aidem der Hainreich vnd der Walther vnd bestætigen daz geschæfte vmb den vorgenanten hof vor vns vvr sich vnd vvr alle ier geerben also daz der hof mit allem dem daz darzvoe gehoert den vorgenanten vrowen ewichleichen dienen schol Darvmbe ze einen vorchvnde des geschæfftes und der stætigunge des vorgenanten hoves geh wier disen brief mit vnserr stat insigel Des sint gezevg Her Reinbot der Zeleub der hvoebmaister her Greiff ouf der Stetten her Vlrich der Rvkchendorfer her Jacob von Hoyen der Lantschreiber her Pilgreim der Chrigler her volman an dem Witmarcht her Paltram der Vatz her volreich vnder der Louben her Hainreich der Hansgraf her Hainreich der Smit vnd ander leut ein michel tail Daz ist geschehen nah vnsers herren gebvoerd tousent iar vnd zwai hvndert iar vnd næun vnd ahtzich iar\n",
      "Ich Jans der Greiff vergich für mich vnd für alle mein erben vnd tün chunt allen den die den brief lesent oder horent lesen die nv lebent vnd hernach chunftich sind daz ich mit aller meiner erben gutem willen vnd gunst mit verdachtem müt vnd nach meiner frewnde rat zu der zeit do ich es wol getun mochte verchovfft han des ersten meins rechten aygens meinen Hof gelegen ze Sweinwart vnd mit meins Lehenherren hant des erbern herren herren Saitzen von Chünringen von Seuelde meins rechten Lehens das ich von im ze lehen gehabt han zwai gantzew lehen die in den vorgenanten Hof gehorent gelegen daselbens ze Sweinwart da Hundert vnd acht Jeuch akchers in gehorent vnd gantzen zehent auf denselben akcher vnd drey wisen vnd drey chrautgaerten auch daselbens gelegen undt                                                                                     ist han ich recht vnd redleichen verchoufft vnd geben mit allen dennützen vnd rechten als ich das aygen vnd in aygens gewer vnd das Lehen in Lehens gewer herpracht han vmb fünfhundert phunt wienner phenning der ich gantz vnd gar verrichtet vnd gewert sein Dem erbern manne Nichlasen dem Dratlouff purger ze Wienne vnd allen seinen erben furbas ledichleich vnd vreilaich ze haben vnd allen iren frumen damit ze schaffen verchouffen versetzen vnd geben wem si wellen an allen irresal Vnd durich pezzer sicherhait setzen wir vns ich obgenanter Jans der Greiffe vnd alle mein erben vnuerschaidenleichen über den vorgenanten Hof vnd über die vorgeschriben güter vnd über alles das das dartzu gehöret als vorbenant ist dem egenanten Nichlasen dem Dratlouff vnd allen seinen erben ze rechten gewern vnd Scherm für alle ansprach vber das aygen als aygens recht ist über das Lehen als Lehens recht ist vnd dez Landes recht ze Österreich Wer aber daz in mit recht an denselben gütern icht abgienge oder daz si mit recht icht Chrieges oder ansprach dar an gewunnen von wem das wer was si des schaden nement das sullen wir in alles ausrichten vnd widercheren an allen iren schaden vnd sulln auch si das haben ouf mir vnd ouf aller meiner erben vnuer-schaidenleich vnd ouf allem vnserm guet das wir haben in dem Lande ze Österreich oder wo wir es haben wie so das genant ist wir sein lebentich oder tode Vnd daz der chouf fürbas also stæt vnd vnzer-brochen beleibe darüber so gib ich obgenanter Jans der Greyff für mich vnd für alle mein erben dem vorgenanten Nichlasen dem Dratlouff vnd allen seinen erben den prief zu einem waren vrkunde der sache versigilten mit meinem Insigil vnd mit hern Jansen insigil bei den Münnernprüdern ze Wienne die der sache vnd des chouffes gezeuge sint mit irn Insigiln Der brief ist geben ze Wienne nach Christes gepürde dreützehen Hundert iar darnach in dem Syben vnd zechtzigistem Jare an sant Vrbans Tage\n",
      "Ich Seyts von Chunnring von Seueld vergich für mich vnd für alle mein erben vnd tun chunt offenleich mit dem brief allen den die in lesent oder hornt lesen die nv lebent vnd hernach chunftich sint Vmb allen den zehenten den Nichlas der Dratlauf purger ze Wienne von mir ze lehen gehabt hat der gelegen ist ze Sweinwart grozzen vnd chlainen ze ueld vnd ze dorf gestifft vnd vngestifft versucht vnd vnuersucht wieso der genant ist der mein lehen ist gewesen von dem edeln heren Graf Friedreichen dem Purchgrafen von Nurnberg vnd denselben zehenten der vorgenant Nichlas der Drotlauf den erbern geistleichen vrown der Abtessinn vnd dem Conuent gemain datz sant Nichlas ze Wienne ze chouffen gegeben hat daz ich mit gutem willen mit wolbedachtem mut zu der zeit da ich es wol getun mochte denselben geistleichen vrown gemaine vnd allen iren Nachkomen lautterleich durch Got vnd durch hails willen meiner vnd aller meiner vodern seln in vnd irem chloster ze stewr vnd ze hilffe ledichleich gegeben han mein Manschaft vnd alle die recht so ich an dem vorgenanten zehenten gehabt han also daz si denselben zehenten furbas ledichleich vnd freileich haben niezzen vnd allen irn frumen damit schaffen sullen wie in vnd irm chloster das wol chumt vnd fueglich ist vnd han ouch mich des vorgenanten zehents vnd aller der rechten so ich daran gehabt han vertzigen vnd gentzleich furzicht getan daz ich noch mein erben furbas darouf nimmermer chain ansprach recht noch vodrung haben noch gewinnen sullen in dhainen wegen Vnd ouch also mit ausgenomener rede ist daz die egenanten geistleichen vrown die aygenschaft des obgenanten zehents auspringent von dem vorgenanten meinem herren dem Purchgrafen von Nürnberg von dem heutigen tage inner iars frist So sol die gab die ich in daran getan hab als vorgeschriben stet gentzleich stet vnd vntzebrochen beleiben Wer aber daz si das in derselben zeit nicht auspræchten so sol die vorgeschriben mein gab ab sein vnd sol ich alle meine recht an dem vorgenanten zehent haben recht als ich sie daran gehabt han an allen chrieg vnd daruber so gib ich in den brief zu einem warn vrchund der sach versigilten mit meinem insigil vnd mit meins swagers insigil hern Haydenreichs von Meissow obrister Schenken vnd zu den zeiten Lantmarschalich in Osterreich vnd mit meins Ohems insigil hern Albers von Ottenstain die der sach gezeug sint mit irn insigiln Der brief ist geben ze Wienne nach Christs gepurd Dreutzehenhundert iare darnach in dem sibentzgistem iare an vnsers herren Gotes Leichnamen\n",
      "Ich Heinrich der Vrbatsch vnd ich Katrei sein havsvrowe wir veriehen vnd tvn chvnt allen den die disen prief lesent oder horent lesen die nv lebent vnd hernah chvnftich sint daz wir mit vnser erben gvtem willen vnd gvnst mit verdahtem mvte vnd mit gesamter hant zv der zeit do wir iz wol getvn mohten verchavft haben vnsers rehten grvntrehtes Zehenthalben wienner phenninch geltes grvntrehtes die man alle iar dient an sand Jergen tage vnd der vier phenninge geltes ligent avf Marchartes havse des Chramer daz da leit an dem Chienmarchte in dem Revelgezzelein vnd ligent ir sechsthalben phenninch geltes avf Heinriches havs des Scharsaher daz da leit in der Langenmavre Die selben gvlte haben wir verchavft vnd geben mit allem dem nvtz vnd reht als wir si in grvntrehtes gewer her praht haben vmb achzich phenninge wienner mvnze der wir reht vnd redlichen gewert sein den erbarn swestern swester Chvnigvnden zv den zeiten Apttissinne vnd der Samnvnge gemaine des Chlosters sand Nichlas avzzerhalben vnd innerhalben der Stat ze Wienne vnd allen irn nahchomen ledichlichen vnd vreilichen ze haben vnd allen irn frvmen da mit ze schaffen verchavffen versetzzen vnd geben swem si wellen an allen irresal vnd dar vber durh pezzer sicherhait so setzen wir vns ich Hainrich der Urbatsch vnd ich Katrei sein havsvrowe vnverschaidenlichen swester Chvnigvnden der Apttissinne vnd der Samnvnge gemaine des chlosters sand Nichlas avzzerhalben vnd innerhalber der stat ze Wienne vnd allen irn nahchomen vber die vorgenanten zehenthalben phenninge geltes grvntrehtes zv rehtem scherm fvr alle ansprah als grvntrehtes reht ist vnd der Stat reht ze wienne vnd geben in dar vber disen prief zv einem vrchvnde vnd ze einem gezevg versigilt mit vnserm insigil vnd sint avh gezevg her Otte der Wulfleinstorfer zv den zeiten purgermaister ze Wienne her Herman von Sand Polten zv den zeiten rihter ze wienne her Heinrich der Chrannest her Niclas von Ezlarn vnd ander frvme levte genvch Diser prief ist geben ze wienne do von Christes gebvrt waren ergangen drevzehen hvndert iar in dem Nevnzehenten iar dar nah des næhsten Mittichens vor sand Cholmans tage\n",
      "Ich Nichlas der Holdel vnd ich Chunigunt sein Hausfrowe wir vergehen vnd tun chunt allen den die disen brief lesent oder hoerent lesen die nu lebent vnd hernach chuenftich sint daz wir mit guetem willen mit verdachtem muet zu der zeit do wir ez wol getuen mochten recht vnd redleich mit gesampter hant geschaft haben vnser geschaffte als ez fuerbaz nach vnser baider tode stæt vnd vnzerbrochen beleibe als hernach an disem brief geschriben stet Des ersten so haben wir geschaft den erbern gæstleichen frowen dem Conuent gemain datz Sant Nichlas ze wienne vnsern weingarten gelegen hinder dev heren Alsse in dem Gotshausperg des ein viertail ist ze nachst Thomans weingarten des Lechner vnd vnsern weingarten gelegen in dem vohental des ein halbs ieuch ist ze nachst Maricharts weingarten des Churtzen vnd vnser haus gelegen in der Lantstrazz ze wienne an dem Puhel gegen sant Nichlas Chappeln ueber ze nachst Chunrats haus des Stangleins vnd dar zu alles vnser varunt gut daz wir hinder vns lazzen ez sei inner haus oder auzzer haus swie so daz genant ist also daz die vorgenanten gæstleichen vrowen gemain datz sant Nichlas ze wienne mit dem vorgenanten erbgut allem den zwain weingarten vnd mit dem haus vnd auch mit allem vnserm varunden gut daz wir hinder vns lazzen als vorgeschriben stet suln fuerbaz nach vnser baider tode ledichleich vnd vreileich allen im frumen schaffen als in daz aller peste wol choem vnd fuege an allen irresal Darnach so haben wir geschaft Jansen meiner vorgenanten Chunigunden prueder vnsern weingarten gelegen in der Waligvis des ein viertail ist ze nachst Vlreichs weingarten vnsers swagers also daz derselbe mein pruder Jans mit dem selben viertail weingarten in der Waligvis sol fürbaz nach vnser baider tode swenn daz ist daz er zu seinen iarn chumt auch ledichleich vnd vreileich allen seinen frumen schaffen als im daz aller peste wol choem vnd fuege an allen irresal Wær aber daz er sturbe vnd an erben verfuer vnd daz er daz selbe viertail weingarten vnuerchumerts hinder im liezze so sol denn daz selbe viertail weingarten auch ledichleich geuallen auf den Conuent gemain der gæstleichen vrowen datz sant Nichlas furbaz ledichleich vnd vreileich ze haben vnd allen irn frumen damit ze schaffen als in daz aller peste wol choem vnd fueg an allen irresal also daz die selben vrowen datz san Nichlas vnsern seln vnd aller vnser vordern vnd nachchomen seln ze hilf vnd ze trost alle iar ewichleich einen iartag da von begen suln in irm chloster mit vigilii mit selmesse vnd mit anderm gepet als irs ordens gewonhait ist Vnd daz ditzs geschæfte nach vnser baider tode stæt vnd vnzerbrochen beleibe als vor an disem brief geschriben stet darvmb so geben wir disen brief zu einem warn vrchunde diser sache versigilt mit hern Hainreichs insigil des Pracher zu den zeiten Purgermaister ze Wienne vnd mit hern Dietreichs insigil des Fluscharts vnd mit hern Chunrats insigil des Herschaftleins die wir des vnuerschaidenlich gepeten haben daz si diser sache gezeug sint mit irn insigiln Der brief ist geben ze Wienne nach Christes geburt Dreutzehen hundert iar dar nach in dem Syben vnd fuenftzgisten iar des nächsten Phintztages vor sant Agnesen tage\n",
      "Ich Alber hern Albrechtes svn des Fovslins von Aleht Ich Gerdrovt sin hovsvrowe Ich Levtolt des vorgenanten Albers brvder Ich Ofmei sin    hovsvrowe Ich Elsbet ir swester hern Ditheres von hintperch hovsvrowe veriehen vnd tvn chvnt allen den di disen brief lesent vnde horent lesen das wir       \taller vnser erbegvtem willen vnde gvnst vnde veraintem rat zder zeit do wirz elliv mohten wol getvn mit gesamter hant vnde mit vnsers Perrichherren        \thant Probst Perchtoldes von Niwenbvrch verchovffet haben vnser rehten perchrehtes drev virtail des wingarten‚ der da leit an dem Nvzperge vnde haizzet der Schonchircher der vnser Mvter vron Margreten leipgedinge ist gewesen vnd vnser anerstorbenz gvt gewesen ist den geistlichen vrowen vrov Christein der aptessine datz Sand Nycla vnde irm Convent mit alle dem nvtz vnde reht als in vnser vordern vnde wir in perchrehtes gewer herbracht haben vmb hvndert phvnt vnde achtzich phvnt phenninge Wienner mvnzze der wir gæntzlich gewert sin allen iren frvmen da mit ze schaffen als mit anderm irm perchreht Ze gvter sicherhait vnde ze gantzem scherme so setze wir vns vnverschæidenlich Ich vorgenanter Alber ich Gerdrovt sin hovsvrow ich Levtolt sin brvder ich Ofmei sin hovsvrowe ich Elsbet ir swester hern Ditheres hovsvrowe von hintperch dem vorgenanten Convent datz Sant Nycla vber di vorgenanten drev virtæil des vorgenanten wingarten ze rehtem scherme als perchrehtes reht ist vnde des landes in Osterrich also auzgenommenchlichen swelhen schaden der selbe Convent neme an den drin virtæilen des wingarten daz svlle wir in avzbringen mit vnser choste vnde arbæite an ir mve Dar vber wir drev geswistreit Alber Levtolt vnde Elsbet heten ein swester die hiez Katrei di irm wirt hern hertwigen von Ort zwæi chint lazzen hat einen svn vnde ein tohter‚ den mit gleichem tæil gevallen vnde anerstorben was daz vierde virtæil des vorgenanten wingarten swaz des hernach an vns erben solt des verzeich wir vns gentzlich Daz diser chovf vnde der scherme also vorgeschriben ist stet vnde vnzebrochen beleib dar vber gebe wir disen brif versigilt mit vnsern insigiln Wand aber vnser swester vro Elsbet niht æigens insigils hat so versigilt si disen brief mit ires wirtes insigil hern Ditheres von hintperch vnde mit hern Greiffen insigil vnde mit hern Chvnrates des hvbmæisters insigil vnde mit hern Vlreiches pei der minnern brvdern insigil di diser sache war gezevge sint vnde mit der rat vnde wizzen diser chavf ergangen ist vnde mit ander erbern levt wizzen di sin gezevge sint vnde hie genant sint daz ist der erber her abt Pavl von Liligenfelde der ivnge Greiffe her chvnrat des hvbmæisters svn‚ Wie     hern Vlriches svn‚ her Nycla von Eslarn pvrgermæister‚ Chvnrat der hansgraf Wilhalm vnd Jans sin brvder Diser brief ist gegeben da nach Christes gebvrt waren ergangen Drevtzehen hvndert iar in dem zwelften Jar dar nah an Sand Philippes tage\n",
      "Wir Michel der Gewchramer zu den zeiten Purgermaister vnd Münzmaister vnd der Rat gemain der Stat ze Wienn bechennen offennleich mit dem brif das fur vns chomen ist in offenn Rat die erber geistleich fraw swester Margret des münzzer tochter bei frawn Elzbeten seiner hawsfrawn irer muter den bayden got gnade vnd Conuentswester in der geistleichen frawn chloster datz sand Nicla vor Stubenthor ze Wienn an ainem tail vnd legt vns dafur wie der egenant ir vater Michel der munzzer irer muter der vorgenanten Elzbeten geschafft hielt sein haws gelegen an dem Chienmarkcht ze Wien zenegst dem haws daz weylent Jacobs seligen des Grafen geween ist vnd seinen weingarten gelegen in dem Nuspach des anderthalb iewch ist Nu wern die egenanten zway erbgüter auz irer muter hannden gestorben vnd wolt auch daz si die von derselben irer muter wegen erben solt nach des geschæfftbrifs lautung den ir  vater darumb hinder im lassen hiet Daengegen choman dem andern tayl auch fur vns in offem Rat Ortolf der Vyrdung der die vorgenant frawn Elzbeten darnach eleichen gehabt hat vnd maynt vnd sprach sind er vnd sein hawsfrawe aneinander nichts gemacht hieten so solten die egenant guter pilleich sein leybgeding sein vnd geuiellen denne nach seinem tod da si zurecht hin geuallen solten vor aller irrung Auch kom fur vns in offem Rat an dem drytten tayl der erber man Liebel der Pawlfer von Ofen an stat frawn Chlarn der Pawlferin purgerin daselbens mit vollem gewalt   nach des brifs lawtung damit er derselben frawn Chlarn rechter anwalt vnd Procurator waz vnd der mit den Stat insigil von Ofen besigelt waz der auch vor vns in offem Rat wart gelesen vnd verhort vnd maynt daz die vorgenant fraw Chlar die Pawlferin auch etweuil rechtens an den egenanten gutern haben solt Vnd chrigten darnach miteinander vmb die vorgenanten guter alslang vntz das si derselben chrig aller mit gutleichem willn vnbetwungenleich hinder vns den Rat zu schidung sind ergangen also swaz wir zwischen in baydenthalben darumb sprechen vnd beschaiden daz si des gentzleich stet vnd vnuerrucht halden wellen Vnd darvmb so ist in offem Rat mit vrag vnd vrtayl geuallen vnd ist auch der Statrecht nach der vrchund lawtung die die fursten von Österreich der egenanten Stat ze Wienn durch besunder wirdichait daruber gegeben habent das ein ygleich chind das vnder seiner frewnd pesten ist sich seins erbtails weder lipleich noch droleich willichleich noch betwungenleieh vertzeichen mag Es sey denne also daz das Chind in ein chloster varn wolle so sullen die frewnd die des gutes nagst erben sint dieselb sach vor dem Rat offnen vnd der sol in denne das besteten vnd wa des nicht geschicht so sulle es nicht chraft haben Seind denne die vorgenant swester Margret von irer frewnd    in daz egenant chloster geuarn ist vnd dhain vertzeichnunge irs erbtayls nicht getan hat vnd es auch die frewnd nach der Statrecht fur den Rat nicht pracht haben vnd auch der Rat nicht bestet hat: Darumb sulle die obgenant swester Margret die egenanten zway erbguter daz haus vnd den weingarten ledichleichen von der egenanten ir muter wegen erben allen irn frumen damit schaffen wie ir daz allerpest fugt oder wolgeuelle vor aller irrung Und wand die sach also vor vns in offenem rat vermeldelt vnd geschehen ist daruber so geben wir den brif zu einem warn offenn vrchund der sach versigillten mit der obgenanten Stat ze  Wienn chlainem anhangundem insigil Der brif ist geben ze Wienn nach kristi gepurd drewtzehenhundert iar darnach in dem zway vnd newntzigistem iar des nagsten Mantags vor sand Vrbans tag\n",
      "Wier Ch\u0000nrat an dem Harmarkcht der Richter Chvoenrat der Polle der Purgermaister vnd der gemainrat von der Stat ze Wienne veriehen vnd tvoen kvnt allen die disen brief gesehent oder gehoerent daz die erbern l\u0000ut weilen Her Ernst vnser burger vnd ver Gerdroevt sein hovsvrowe da si baide lebten vnd wol mahten einen hof datze Swechent mit gemainem rate und gvoetleichen willen schvoeften den vrowen datze sant Nycla und ierem Conuent ewichleich nah ier baider tot durch ier sele willen Da si dv baide tot gelagen der vorgenant Ernst vnd ver Gerdrovt sein housvrowe da choemen vvr vns ier baider svne der Jacob vnd der Hainreich vnd ier aidem der Hainreich vnd der Walther vnd best\u0000tigen daz gesch\u0000fte vmb den vorgenanten hof vor vns vvr sich vnd vvr alle ier geerben also daz der hof mit allem dem daz darzvoe gehoert den vorgenanten vrowen ewichleichen dienen schol Darvmbe ze einen vorchvnde des gesch\u0000fftes und der st\u0000tigunge des vorgenanten hoves geh wier disen brief mit vnserr stat insigel Des sint gezevg Her Reinbot der Zeleub der hvoebmaister her Greiff ouf der Stetten her Vlrich der Rvkchendorfer her Jacob von Hoyen der Lantschreiber her Pilgreim der Chrigler her volman an dem Witmarcht her Paltram der Vatz her volreich vnder der Louben her Hainreich der Hansgraf her Hainreich der Smit vnd ander leut ein michel tail Daz ist geschehen nah vnsers herren gebvoerd tousent iar vnd zwai hvndert iar vnd n\u0000un vnd ahtzich iar\n",
      "Ich Jans der Greiff vergich f\u0000r mich vnd f\u0000r alle mein erben vnd t\u0000n chunt allen den die den brief lesent oder horent lesen die nv lebent vnd hernach chunftich sind daz ich mit aller meiner erben gutem willen vnd gunst mit verdachtem m\u0000t vnd nach meiner frewnde rat zu der zeit do ich es wol getun mochte verchovfft han des ersten meins rechten aygens meinen Hof gelegen ze Sweinwart vnd mit meins Lehenherren hant des erbern herren herren Saitzen von Ch\u0000nringen von Seuelde meins rechten Lehens das ich von im ze lehen gehabt han zwai gantzew lehen die in den vorgenanten Hof gehorent gelegen daselbens ze Sweinwart da Hundert vnd acht Jeuch akchers in gehorent vnd gantzen zehent auf denselben akcher vnd drey wisen vnd drey chrautgaerten auch daselbens gelegen undt                                                                                     ist han ich recht vnd redleichen verchoufft vnd geben mit allen denn\u0000tzen vnd rechten als ich das aygen vnd in aygens gewer vnd das Lehen in Lehens gewer herpracht han vmb f\u0000nfhundert phunt wienner phenning der ich gantz vnd gar verrichtet vnd gewert sein Dem erbern manne Nichlasen dem Dratlouff purger ze Wienne vnd allen seinen erben furbas ledichleich vnd vreilaich ze haben vnd allen iren frumen damit ze schaffen verchouffen versetzen vnd geben wem si wellen an allen irresal Vnd durich pezzer sicherhait setzen wir vns ich obgenanter Jans der Greiffe vnd alle mein erben vnuerschaidenleichen \u0000ber den vorgenanten Hof vnd \u0000ber die vorgeschriben g\u0000ter vnd \u0000ber alles das das dartzu geh\u0000ret als vorbenant ist dem egenanten Nichlasen dem Dratlouff vnd allen seinen erben ze rechten gewern vnd Scherm f\u0000r alle ansprach vber das aygen als aygens recht ist \u0000ber das Lehen als Lehens recht ist vnd dez Landes recht ze \u0000sterreich Wer aber daz in mit recht an denselben g\u0000tern icht abgienge oder daz si mit recht icht Chrieges oder ansprach dar an gewunnen von wem das wer was si des schaden nement das sullen wir in alles ausrichten vnd widercheren an allen iren schaden vnd sulln auch si das haben ouf mir vnd ouf aller meiner erben vnuer-schaidenleich vnd ouf allem vnserm guet das wir haben in dem Lande ze \u0000sterreich oder wo wir es haben wie so das genant ist wir sein lebentich oder tode Vnd daz der chouf f\u0000rbas also st\u0000t vnd vnzer-brochen beleibe dar\u0000ber so gib ich obgenanter Jans der Greyff f\u0000r mich vnd f\u0000r alle mein erben dem vorgenanten Nichlasen dem Dratlouff vnd allen seinen erben den prief zu einem waren vrkunde der sache versigilten mit meinem Insigil vnd mit hern Jansen insigil bei den M\u0000nnernpr\u0000dern ze Wienne die der sache vnd des chouffes gezeuge sint mit irn Insigiln Der brief ist geben ze Wienne nach Christes gep\u0000rde dre\u0000tzehen Hundert iar darnach in dem Syben vnd zechtzigistem Jare an sant Vrbans Tage\n",
      "Ich Seyts von Chunnring von Seueld vergich f\u0000r mich vnd f\u0000r alle mein erben vnd tun chunt offenleich mit dem brief allen den die in lesent oder hornt lesen die nv lebent vnd hernach chunftich sint Vmb allen den zehenten den Nichlas der Dratlauf purger ze Wienne von mir ze lehen gehabt hat der gelegen ist ze Sweinwart grozzen vnd chlainen ze ueld vnd ze dorf gestifft vnd vngestifft versucht vnd vnuersucht wieso der genant ist der mein lehen ist gewesen von dem edeln heren Graf Friedreichen dem Purchgrafen von Nurnberg vnd denselben zehenten der vorgenant Nichlas der Drotlauf den erbern geistleichen vrown der Abtessinn vnd dem Conuent gemain datz sant Nichlas ze Wienne ze chouffen gegeben hat daz ich mit gutem willen mit wolbedachtem mut zu der zeit da ich es wol getun mochte denselben geistleichen vrown gemaine vnd allen iren Nachkomen lautterleich durch Got vnd durch hails willen meiner vnd aller meiner vodern seln in vnd irem chloster ze stewr vnd ze hilffe ledichleich gegeben han mein Manschaft vnd alle die recht so ich an dem vorgenanten zehenten gehabt han also daz si denselben zehenten furbas ledichleich vnd freileich haben niezzen vnd allen irn frumen damit schaffen sullen wie in vnd irm chloster das wol chumt vnd fueglich ist vnd han ouch mich des vorgenanten zehents vnd aller der rechten so ich daran gehabt han vertzigen vnd gentzleich furzicht getan daz ich noch mein erben furbas darouf nimmermer chain ansprach recht noch vodrung haben noch gewinnen sullen in dhainen wegen Vnd ouch also mit ausgenomener rede ist daz die egenanten geistleichen vrown die aygenschaft des obgenanten zehents auspringent von dem vorgenanten meinem herren dem Purchgrafen von N\u0000rnberg von dem heutigen tage inner iars frist So sol die gab die ich in daran getan hab als vorgeschriben stet gentzleich stet vnd vntzebrochen beleiben Wer aber daz si das in derselben zeit nicht auspr\u0000chten so sol die vorgeschriben mein gab ab sein vnd sol ich alle meine recht an dem vorgenanten zehent haben recht als ich sie daran gehabt han an allen chrieg vnd daruber so gib ich in den brief zu einem warn vrchund der sach versigilten mit meinem insigil vnd mit meins swagers insigil hern Haydenreichs von Meissow obrister Schenken vnd zu den zeiten Lantmarschalich in Osterreich vnd mit meins Ohems insigil hern Albers von Ottenstain die der sach gezeug sint mit irn insigiln Der brief ist geben ze Wienne nach Christs gepurd Dreutzehenhundert iare darnach in dem sibentzgistem iare an vnsers herren Gotes Leichnamen\n",
      "Ich Heinrich der Vrbatsch vnd ich Katrei sein havsvrowe wir veriehen vnd tvn chvnt allen den die disen prief lesent oder horent lesen die nv lebent vnd hernah chvnftich sint daz wir mit vnser erben gvtem willen vnd gvnst mit verdahtem mvte vnd mit gesamter hant zv der zeit do wir iz wol getvn mohten verchavft haben vnsers rehten grvntrehtes Zehenthalben wienner phenninch geltes grvntrehtes die man alle iar dient an sand Jergen tage vnd der vier phenninge geltes ligent avf Marchartes havse des Chramer daz da leit an dem Chienmarchte in dem Revelgezzelein vnd ligent ir sechsthalben phenninch geltes avf Heinriches havs des Scharsaher daz da leit in der Langenmavre Die selben gvlte haben wir verchavft vnd geben mit allem dem nvtz vnd reht als wir si in grvntrehtes gewer her praht haben vmb achzich phenninge wienner mvnze der wir reht vnd redlichen gewert sein den erbarn swestern swester Chvnigvnden zv den zeiten Apttissinne vnd der Samnvnge gemaine des Chlosters sand Nichlas avzzerhalben vnd innerhalben der Stat ze Wienne vnd allen irn nahchomen ledichlichen vnd vreilichen ze haben vnd allen irn frvmen da mit ze schaffen verchavffen versetzzen vnd geben swem si wellen an allen irresal vnd dar vber durh pezzer sicherhait so setzen wir vns ich Hainrich der Urbatsch vnd ich Katrei sein havsvrowe vnverschaidenlichen swester Chvnigvnden der Apttissinne vnd der Samnvnge gemaine des chlosters sand Nichlas avzzerhalben vnd innerhalber der stat ze Wienne vnd allen irn nahchomen vber die vorgenanten zehenthalben phenninge geltes grvntrehtes zv rehtem scherm fvr alle ansprah als grvntrehtes reht ist vnd der Stat reht ze wienne vnd geben in dar vber disen prief zv einem vrchvnde vnd ze einem gezevg versigilt mit vnserm insigil vnd sint avh gezevg her Otte der Wulfleinstorfer zv den zeiten purgermaister ze Wienne her Herman von Sand Polten zv den zeiten rihter ze wienne her Heinrich der Chrannest her Niclas von Ezlarn vnd ander frvme levte genvch Diser prief ist geben ze wienne do von Christes gebvrt waren ergangen drevzehen hvndert iar in dem Nevnzehenten iar dar nah des n\u0000hsten Mittichens vor sand Cholmans tage\n",
      "Ich Nichlas der Holdel vnd ich Chunigunt sein Hausfrowe wir vergehen vnd tun chunt allen den die disen brief lesent oder hoerent lesen die nu lebent vnd hernach chuenftich sint daz wir mit guetem willen mit verdachtem muet zu der zeit do wir ez wol getuen mochten recht vnd redleich mit gesampter hant geschaft haben vnser geschaffte als ez fuerbaz nach vnser baider tode st\u0000t vnd vnzerbrochen beleibe als hernach an disem brief geschriben stet Des ersten so haben wir geschaft den erbern g\u0000stleichen frowen dem Conuent gemain datz Sant Nichlas ze wienne vnsern weingarten gelegen hinder dev heren Alsse in dem Gotshausperg des ein viertail ist ze nachst Thomans weingarten des Lechner vnd vnsern weingarten gelegen in dem vohental des ein halbs ieuch ist ze nachst Maricharts weingarten des Churtzen vnd vnser haus gelegen in der Lantstrazz ze wienne an dem Puhel gegen sant Nichlas Chappeln ueber ze nachst Chunrats haus des Stangleins vnd dar zu alles vnser varunt gut daz wir hinder vns lazzen ez sei inner haus oder auzzer haus swie so daz genant ist also daz die vorgenanten g\u0000stleichen vrowen gemain datz sant Nichlas ze wienne mit dem vorgenanten erbgut allem den zwain weingarten vnd mit dem haus vnd auch mit allem vnserm varunden gut daz wir hinder vns lazzen als vorgeschriben stet suln fuerbaz nach vnser baider tode ledichleich vnd vreileich allen im frumen schaffen als in daz aller peste wol choem vnd fuege an allen irresal Darnach so haben wir geschaft Jansen meiner vorgenanten Chunigunden prueder vnsern weingarten gelegen in der Waligvis des ein viertail ist ze nachst Vlreichs weingarten vnsers swagers also daz derselbe mein pruder Jans mit dem selben viertail weingarten in der Waligvis sol f\u0000rbaz nach vnser baider tode swenn daz ist daz er zu seinen iarn chumt auch ledichleich vnd vreileich allen seinen frumen schaffen als im daz aller peste wol choem vnd fuege an allen irresal W\u0000r aber daz er sturbe vnd an erben verfuer vnd daz er daz selbe viertail weingarten vnuerchumerts hinder im liezze so sol denn daz selbe viertail weingarten auch ledichleich geuallen auf den Conuent gemain der g\u0000stleichen vrowen datz sant Nichlas furbaz ledichleich vnd vreileich ze haben vnd allen irn frumen damit ze schaffen als in daz aller peste wol choem vnd fueg an allen irresal also daz die selben vrowen datz san Nichlas vnsern seln vnd aller vnser vordern vnd nachchomen seln ze hilf vnd ze trost alle iar ewichleich einen iartag da von begen suln in irm chloster mit vigilii mit selmesse vnd mit anderm gepet als irs ordens gewonhait ist Vnd daz ditzs gesch\u0000fte nach vnser baider tode st\u0000t vnd vnzerbrochen beleibe als vor an disem brief geschriben stet darvmb so geben wir disen brief zu einem warn vrchunde diser sache versigilt mit hern Hainreichs insigil des Pracher zu den zeiten Purgermaister ze Wienne vnd mit hern Dietreichs insigil des Fluscharts vnd mit hern Chunrats insigil des Herschaftleins die wir des vnuerschaidenlich gepeten haben daz si diser sache gezeug sint mit irn insigiln Der brief ist geben ze Wienne nach Christes geburt Dreutzehen hundert iar dar nach in dem Syben vnd fuenftzgisten iar des n\u0000chsten Phintztages vor sant Agnesen tage\n",
      "Ich Alber hern Albrechtes svn des Fovslins von Aleht Ich Gerdrovt sin hovsvrowe Ich Levtolt des vorgenanten Albers brvder Ich Ofmei sin    hovsvrowe Ich Elsbet ir swester hern Ditheres von hintperch hovsvrowe veriehen vnd tvn chvnt allen den di disen brief lesent vnde horent lesen das wir       \taller vnser erbegvtem willen vnde gvnst vnde veraintem rat zder zeit do wirz elliv mohten wol getvn mit gesamter hant vnde mit vnsers Perrichherren        \thant Probst Perchtoldes von Niwenbvrch verchovffet haben vnser rehten perchrehtes drev virtail des wingarten\u0000 der da leit an dem Nvzperge vnde haizzet der Schonchircher der vnser Mvter vron Margreten leipgedinge ist gewesen vnd vnser anerstorbenz gvt gewesen ist den geistlichen vrowen vrov Christein der aptessine datz Sand Nycla vnde irm Convent mit alle dem nvtz vnde reht als in vnser vordern vnde wir in perchrehtes gewer herbracht haben vmb hvndert phvnt vnde achtzich phvnt phenninge Wienner mvnzze der wir g\u0000ntzlich gewert sin allen iren frvmen da mit ze schaffen als mit anderm irm perchreht Ze gvter sicherhait vnde ze gantzem scherme so setze wir vns vnversch\u0000idenlich Ich vorgenanter Alber ich Gerdrovt sin hovsvrow ich Levtolt sin brvder ich Ofmei sin hovsvrowe ich Elsbet ir swester hern Ditheres hovsvrowe von hintperch dem vorgenanten Convent datz Sant Nycla vber di vorgenanten drev virt\u0000il des vorgenanten wingarten ze rehtem scherme als perchrehtes reht ist vnde des landes in Osterrich also auzgenommenchlichen swelhen schaden der selbe Convent neme an den drin virt\u0000ilen des wingarten daz svlle wir in avzbringen mit vnser choste vnde arb\u0000ite an ir mve Dar vber wir drev geswistreit Alber Levtolt vnde Elsbet heten ein swester die hiez Katrei di irm wirt hern hertwigen von Ort zw\u0000i chint lazzen hat einen svn vnde ein tohter\u0000 den mit gleichem t\u0000il gevallen vnde anerstorben was daz vierde virt\u0000il des vorgenanten wingarten swaz des hernach an vns erben solt des verzeich wir vns gentzlich Daz diser chovf vnde der scherme also vorgeschriben ist stet vnde vnzebrochen beleib dar vber gebe wir disen brif versigilt mit vnsern insigiln Wand aber vnser swester vro Elsbet niht \u0000igens insigils hat so versigilt si disen brief mit ires wirtes insigil hern Ditheres von hintperch vnde mit hern Greiffen insigil vnde mit hern Chvnrates des hvbm\u0000isters insigil vnde mit hern Vlreiches pei der minnern brvdern insigil di diser sache war gezevge sint vnde mit der rat vnde wizzen diser chavf ergangen ist vnde mit ander erbern levt wizzen di sin gezevge sint vnde hie genant sint daz ist der erber her abt Pavl von Liligenfelde der ivnge Greiffe her chvnrat des hvbm\u0000isters svn\u0000 Wie     hern Vlriches svn\u0000 her Nycla von Eslarn pvrgerm\u0000ister\u0000 Chvnrat der hansgraf Wilhalm vnd Jans sin brvder Diser brief ist gegeben da nach Christes gebvrt waren ergangen Drevtzehen hvndert iar in dem zwelften Jar dar nah an Sand Philippes tage\n",
      "Wir Michel der Gewchramer zu den zeiten Purgermaister vnd M\u0000nzmaister vnd der Rat gemain der Stat ze Wienn bechennen offennleich mit dem brif das fur vns chomen ist in offenn Rat die erber geistleich fraw swester Margret des m\u0000nzzer tochter bei frawn Elzbeten seiner hawsfrawn irer muter den bayden got gnade vnd Conuentswester in der geistleichen frawn chloster datz sand Nicla vor Stubenthor ze Wienn an ainem tail vnd legt vns dafur wie der egenant ir vater Michel der munzzer irer muter der vorgenanten Elzbeten geschafft hielt sein haws gelegen an dem Chienmarkcht ze Wien zenegst dem haws daz weylent Jacobs seligen des Grafen geween ist vnd seinen weingarten gelegen in dem Nuspach des anderthalb iewch ist Nu wern die egenanten zway erbg\u0000ter auz irer muter hannden gestorben vnd wolt auch daz si die von derselben irer muter wegen erben solt nach des gesch\u0000fftbrifs lautung den ir  vater darumb hinder im lassen hiet Daengegen choman dem andern tayl auch fur vns in offem Rat Ortolf der Vyrdung der die vorgenant frawn Elzbeten darnach eleichen gehabt hat vnd maynt vnd sprach sind er vnd sein hawsfrawe aneinander nichts gemacht hieten so solten die egenant guter pilleich sein leybgeding sein vnd geuiellen denne nach seinem tod da si zurecht hin geuallen solten vor aller irrung Auch kom fur vns in offem Rat an dem drytten tayl der erber man Liebel der Pawlfer von Ofen an stat frawn Chlarn der Pawlferin purgerin daselbens mit vollem gewalt   nach des brifs lawtung damit er derselben frawn Chlarn rechter anwalt vnd Procurator waz vnd der mit den Stat insigil von Ofen besigelt waz der auch vor vns in offem Rat wart gelesen vnd verhort vnd maynt daz die vorgenant fraw Chlar die Pawlferin auch etweuil rechtens an den egenanten gutern haben solt Vnd chrigten darnach miteinander vmb die vorgenanten guter alslang vntz das si derselben chrig aller mit gutleichem willn vnbetwungenleich hinder vns den Rat zu schidung sind ergangen also swaz wir zwischen in baydenthalben darumb sprechen vnd beschaiden daz si des gentzleich stet vnd vnuerrucht halden wellen Vnd darvmb so ist in offem Rat mit vrag vnd vrtayl geuallen vnd ist auch der Statrecht nach der vrchund lawtung die die fursten von \u0000sterreich der egenanten Stat ze Wienn durch besunder wirdichait daruber gegeben habent das ein ygleich chind das vnder seiner frewnd pesten ist sich seins erbtails weder lipleich noch droleich willichleich noch betwungenleieh vertzeichen mag Es sey denne also daz das Chind in ein chloster varn wolle so sullen die frewnd die des gutes nagst erben sint dieselb sach vor dem Rat offnen vnd der sol in denne das besteten vnd wa des nicht geschicht so sulle es nicht chraft haben Seind denne die vorgenant swester Margret von irer frewnd    in daz egenant chloster geuarn ist vnd dhain vertzeichnunge irs erbtayls nicht getan hat vnd es auch die frewnd nach der Statrecht fur den Rat nicht pracht haben vnd auch der Rat nicht bestet hat: Darumb sulle die obgenant swester Margret die egenanten zway erbguter daz haus vnd den weingarten ledichleichen von der egenanten ir muter wegen erben allen irn frumen damit schaffen wie ir daz allerpest fugt oder wolgeuelle vor aller irrung Und wand die sach also vor vns in offenem rat vermeldelt vnd geschehen ist daruber so geben wir den brif zu einem warn offenn vrchund der sach versigillten mit der obgenanten Stat ze  Wienn chlainem anhangundem insigil Der brif ist geben ze Wienn nach kristi gepurd drewtzehenhundert iar darnach in dem zway vnd newntzigistem iar des nagsten Mantags vor sand Vrbans tag\n"
     ]
    }
   ],
   "source": [
    "import torch\n",
    "import pylelemmatize\n",
    "import glob\n",
    "import torch.nn as nn\n",
    "from torch.utils.data import Dataset, DataLoader\n",
    "import string\n",
    "\n",
    "corpus_str = \"\\n\".join([open(f, \"r\").read() for f in glob.glob(\"../../sample_data/wienocist_charter_1/*.txt\")])\n",
    "print(corpus_str)\n",
    "alphabet = pylelemmatize.AlphabetBMP(pylelemmatize.allbmp_encoding_alphabet_strings[\"ascii\"], unknown_chr=\"@\")\n",
    "corpus_str = alphabet(corpus_str)\n",
    "print(corpus_str)"
   ]
  },
  {
   "cell_type": "code",
   "execution_count": null,
   "id": "5010e74c-88d0-4792-87e9-ba4e956d228d",
   "metadata": {},
   "outputs": [
    {
     "name": "stdout",
     "output_type": "stream",
     "text": [
      "[[0. 1. 0. 0. 0.]\n",
      " [1. 0. 0. 0. 0.]\n",
      " [1. 0. 0. 0. 0.]\n",
      " [0. 0. 1. 0. 0.]\n",
      " [0. 1. 0. 0. 0.]]\n"
     ]
    },
    {
     "ename": "AttributeError",
     "evalue": "'AlphabetBMP' object has no attribute 'encode_str_'",
     "output_type": "error",
     "traceback": [
      "\u001b[31m---------------------------------------------------------------------------\u001b[39m",
      "\u001b[31mAttributeError\u001b[39m                            Traceback (most recent call last)",
      "\u001b[36mCell\u001b[39m\u001b[36m \u001b[39m\u001b[32mIn[11]\u001b[39m\u001b[32m, line 3\u001b[39m\n\u001b[32m      1\u001b[39m alphabet = pylelemmatize.AlphabetBMP(\u001b[33m\"\u001b[39m\u001b[33mABab\u001b[39m\u001b[33m\"\u001b[39m)\n\u001b[32m      2\u001b[39m \u001b[38;5;28mprint\u001b[39m(alphabet.encode_str_to_onehot(\u001b[33m\"\u001b[39m\u001b[33mAZzBA\u001b[39m\u001b[33m\"\u001b[39m))\n\u001b[32m----> \u001b[39m\u001b[32m3\u001b[39m \u001b[38;5;28mprint\u001b[39m(\u001b[43malphabet\u001b[49m\u001b[43m.\u001b[49m\u001b[43mencode_str_\u001b[49m(\u001b[33m\"\u001b[39m\u001b[33mABab\u001b[39m\u001b[33m\"\u001b[39m))\n\u001b[32m      5\u001b[39m \u001b[38;5;28;01mclass\u001b[39;00m\u001b[38;5;250m \u001b[39m\u001b[34;01mCapitalizationDataset\u001b[39;00m(Dataset):\n\u001b[32m      6\u001b[39m     \u001b[38;5;28;01mdef\u001b[39;00m\u001b[38;5;250m \u001b[39m\u001b[34m__init__\u001b[39m(\u001b[38;5;28mself\u001b[39m, text, alphabet, seq_length=\u001b[32m250\u001b[39m):\n",
      "\u001b[31mAttributeError\u001b[39m: 'AlphabetBMP' object has no attribute 'encode_str_'"
     ]
    }
   ],
   "source": [
    "alphabet = pylelemmatize.AlphabetBMP(\"ABab\")\n",
    "print(alphabet.encode_str_to_onehot(\"AZzBA\"))\n",
    "\n",
    "class CapitalizationDataset(Dataset):\n",
    "    def __init__(self, text, alphabet, seq_length=250):\n",
    "        self.alphabet = alphabet\n",
    "        self.seq_length = seq_length\n",
    "        self.text = alphabet(text)\n",
    "        self.lower_text = self.text.lower()\n",
    "        self.inputs = []\n",
    "        self.targets = []\n",
    "\n",
    "        for i in range(len(text) - seq_length):\n",
    "            inp_seq = self.lower_text[i:i+seq_length]\n",
    "            tgt_seq = text[i:i+seq_length]\n",
    "            print(f\"Input: {inp_seq}, Target: {tgt_seq}\")\n",
    "            self.inputs.append(text_to_tensor(inp_seq))\n",
    "            self.targets.append(text_to_tensor(tgt_seq))\n",
    "\n",
    "    def __len__(self):\n",
    "        return len(self.inputs)\n",
    "\n",
    "    def __getitem__(self, idx):\n",
    "        return self.inputs[idx], self.targets[idx]\n"
   ]
  },
  {
   "cell_type": "code",
   "execution_count": null,
   "id": "c9e88d09",
   "metadata": {},
   "outputs": [
    {
     "name": "stdout",
     "output_type": "stream",
     "text": [
      "Epoch 1, Loss: 0.0251\n",
      "Epoch 2, Loss: 0.0042\n",
      "Epoch 3, Loss: 0.0040\n",
      "Epoch 4, Loss: 0.0039\n"
     ]
    },
    {
     "ename": "KeyboardInterrupt",
     "evalue": "",
     "output_type": "error",
     "traceback": [
      "\u001b[31m---------------------------------------------------------------------------\u001b[39m",
      "\u001b[31mKeyboardInterrupt\u001b[39m                         Traceback (most recent call last)",
      "\u001b[36mCell\u001b[39m\u001b[36m \u001b[39m\u001b[32mIn[10]\u001b[39m\u001b[32m, line 83\u001b[39m\n\u001b[32m     81\u001b[39m train_str = corpus_str[\u001b[32m1000\u001b[39m:]\n\u001b[32m     82\u001b[39m test_str = corpus_str[:\u001b[32m1000\u001b[39m]\n\u001b[32m---> \u001b[39m\u001b[32m83\u001b[39m model = \u001b[43mtrain_model\u001b[49m\u001b[43m(\u001b[49m\u001b[43mtrain_str\u001b[49m\u001b[43m,\u001b[49m\u001b[43m \u001b[49m\u001b[43mnum_epochs\u001b[49m\u001b[43m=\u001b[49m\u001b[32;43m100\u001b[39;49m\u001b[43m)\u001b[49m\n\u001b[32m     84\u001b[39m test_input = \u001b[33m\"\u001b[39m\u001b[33mhello world. this is an example text.\u001b[39m\u001b[33m\"\u001b[39m\n\u001b[32m     85\u001b[39m \u001b[38;5;28mprint\u001b[39m(\u001b[33m\"\u001b[39m\u001b[33mInput :\u001b[39m\u001b[33m\"\u001b[39m, test_str.lower())\n",
      "\u001b[36mCell\u001b[39m\u001b[36m \u001b[39m\u001b[32mIn[10]\u001b[39m\u001b[32m, line 66\u001b[39m, in \u001b[36mtrain_model\u001b[39m\u001b[34m(text, num_epochs, batch_size, hidden_size, num_layers, lr, device)\u001b[39m\n\u001b[32m     64\u001b[39m         loss.backward()\n\u001b[32m     65\u001b[39m         optimizer.step()\n\u001b[32m---> \u001b[39m\u001b[32m66\u001b[39m         total_loss += \u001b[43mloss\u001b[49m\u001b[43m.\u001b[49m\u001b[43mcpu\u001b[49m\u001b[43m(\u001b[49m\u001b[43m)\u001b[49m.item()\n\u001b[32m     67\u001b[39m     \u001b[38;5;28mprint\u001b[39m(\u001b[33mf\u001b[39m\u001b[33m\"\u001b[39m\u001b[33mEpoch \u001b[39m\u001b[38;5;132;01m{\u001b[39;00mepoch+\u001b[32m1\u001b[39m\u001b[38;5;132;01m}\u001b[39;00m\u001b[33m, Loss: \u001b[39m\u001b[38;5;132;01m{\u001b[39;00mtotal_loss\u001b[38;5;250m \u001b[39m/\u001b[38;5;250m \u001b[39m\u001b[38;5;28mlen\u001b[39m(dataloader)\u001b[38;5;132;01m:\u001b[39;00m\u001b[33m.4f\u001b[39m\u001b[38;5;132;01m}\u001b[39;00m\u001b[33m\"\u001b[39m)\n\u001b[32m     68\u001b[39m \u001b[38;5;28;01mreturn\u001b[39;00m model.to(\u001b[33m\"\u001b[39m\u001b[33mcpu\u001b[39m\u001b[33m\"\u001b[39m)\n",
      "\u001b[31mKeyboardInterrupt\u001b[39m: "
     ]
    }
   ],
   "source": [
    "\n",
    "# 1. Define the character sets\n",
    "all_chars = alphabet.unknown_chr + alphabet.src_alphabet_str\n",
    "char2idx = {ch: idx for idx, ch in enumerate(all_chars)}\n",
    "idx2char = {idx: ch for ch, idx in char2idx.items()}\n",
    "\n",
    "# 2. Data preparation\n",
    "def text_to_tensor(text):\n",
    "    return torch.tensor([char2idx.get(c, 0) for c in text], dtype=torch.long)\n",
    "\n",
    "def tensor_to_text(tensor):\n",
    "    return ''.join([idx2char[idx.item()] for idx in tensor])\n",
    "\n",
    "# 3. Custom Dataset\n",
    "\n",
    "# 4. Model\n",
    "class CharLSTM(nn.Module):\n",
    "    def __init__(self, vocab_size, hidden_size, num_layers=1):\n",
    "        super().__init__()\n",
    "        self.embedding = nn.Embedding(vocab_size, hidden_size)\n",
    "        self.lstm = nn.LSTM(hidden_size, hidden_size, num_layers, batch_first=True)\n",
    "        self.fc = nn.Linear(hidden_size, vocab_size)\n",
    "\n",
    "    def forward(self, x, hidden=None):\n",
    "        x = self.embedding(x)\n",
    "        out, hidden = self.lstm(x, hidden)\n",
    "        out = self.fc(out)\n",
    "        return out, hidden\n",
    "\n",
    "# 5. Training loop\n",
    "def train_model(text, num_epochs=1000, batch_size=32, hidden_size=128, num_layers=5, lr=0.001, device=\"cuda\"):\n",
    "    dataset = CapitalizationDataset(text)\n",
    "    dataloader = DataLoader(dataset, batch_size=batch_size, shuffle=True)\n",
    "    model = CharLSTM(len(all_chars), hidden_size)\n",
    "    model = model.to(device)\n",
    "    loss_fn = nn.CrossEntropyLoss()\n",
    "    optimizer = torch.optim.Adam(model.parameters(), lr=lr)\n",
    "\n",
    "    for epoch in range(num_epochs):\n",
    "        total_loss = 0\n",
    "        for x_batch, y_batch in dataloader:\n",
    "            x_batch, y_batch = x_batch.to(device), y_batch.to(device)\n",
    "            output, _ = model(x_batch)\n",
    "            loss = loss_fn(output.view(-1, len(all_chars)), y_batch.view(-1))\n",
    "            optimizer.zero_grad()\n",
    "            loss.backward()\n",
    "            optimizer.step()\n",
    "            total_loss += loss.cpu().item()\n",
    "        print(f\"Epoch {epoch+1}, Loss: {total_loss / len(dataloader):.4f}\")\n",
    "    return model.to(\"cpu\")\n",
    "\n",
    "# 6. Sampling\n",
    "def predict(model, input_text, max_len=100):\n",
    "    model.eval()\n",
    "    input_tensor = text_to_tensor(input_text.lower()).unsqueeze(0)\n",
    "    output, _ = model(input_tensor)\n",
    "    pred_indices = output.argmax(dim=2).squeeze(0)\n",
    "    return tensor_to_text(pred_indices)\n",
    "\n",
    "# Example usage\n",
    "if __name__ == \"__main__\":\n",
    "    raw_text = \"Hello world. this is an example text. another sentence starts here.\"\n",
    "    train_str = corpus_str[1000:]\n",
    "    test_str = corpus_str[:1000]\n",
    "    model = train_model(train_str, num_epochs=100)\n",
    "    test_input = \"hello world. this is an example text.\"\n",
    "    print(\"Input :\", test_str.lower())\n",
    "    pred = predict(model, test_str.lower())\n",
    "    print(\"Output:\", pred)\n",
    "    print(f\"CER: {sum([pred[n]==test_str[n] for n in range(len(pred))]) / len(pred):.4f}\")"
   ]
  },
  {
   "cell_type": "code",
   "execution_count": null,
   "id": "0258d3f6",
   "metadata": {},
   "outputs": [],
   "source": []
  },
  {
   "cell_type": "code",
   "execution_count": null,
   "id": "bc77f5a5",
   "metadata": {},
   "outputs": [
    {
     "name": "stdout",
     "output_type": "stream",
     "text": [
      "True\n"
     ]
    },
    {
     "data": {
      "text/plain": [
       "'/home/anguelos/venvs/p312_u2404/lib/python3.12/site-packages/torch/__init__.py'"
      ]
     },
     "execution_count": 5,
     "metadata": {},
     "output_type": "execute_result"
    }
   ],
   "source": [
    "print(torch.cuda.is_available())\n",
    "torch.__file__"
   ]
  }
 ],
 "metadata": {
  "kernelspec": {
   "display_name": "p312_u2404",
   "language": "python",
   "name": "python3"
  },
  "language_info": {
   "codemirror_mode": {
    "name": "ipython",
    "version": 3
   },
   "file_extension": ".py",
   "mimetype": "text/x-python",
   "name": "python",
   "nbconvert_exporter": "python",
   "pygments_lexer": "ipython3",
   "version": "3.12.3"
  }
 },
 "nbformat": 4,
 "nbformat_minor": 5
}
